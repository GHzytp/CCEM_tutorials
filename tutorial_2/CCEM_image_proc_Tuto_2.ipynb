{
 "cells": [
  {
   "cell_type": "markdown",
   "id": "74219abb",
   "metadata": {},
   "source": [
    "# **CCEM Image processing #2**\n",
    "\n",
    "Introduction to data filtering, segmentation and features measurement"
   ]
  },
  {
   "cell_type": "code",
   "execution_count": null,
   "id": "c28b2296",
   "metadata": {},
   "outputs": [],
   "source": [
    "# To run only if using jupyter notebook through binder\n",
    "# Install the required packages in Jupyter kernel (internet connection required)\n",
    "import sys\n",
    "!{sys.executable} -m pip install numpy\n",
    "!{sys.executable} -m pip install imageio\n",
    "!{sys.executable} -m pip install matplotlib\n",
    "!{sys.executable} -m pip install matplotlib_scalebar\n",
    "!{sys.executable} -m pip install scikit-image\n",
    "!{sys.executable} -m pip install scipy"
   ]
  },
  {
   "cell_type": "code",
   "execution_count": null,
   "id": "622e98ff",
   "metadata": {},
   "outputs": [],
   "source": [
    "# Libraries from tutorial #1\n",
    "import numpy as np\n",
    "import matplotlib.pyplot as plt\n",
    "import matplotlib_scalebar as Scalebar\n",
    "import imageio as io\n",
    "\n",
    "# Scipy and scikit-image libraries for simple image filtering, segmemtation and measurements  \n",
    "import scipy.signal as signal\n",
    "import skimage.filters as filters\n",
    "import skimage.measure as measure\n",
    "import skimage.morphology as morphology\n",
    "\n",
    "# Additional libraries for data visualization\n",
    "from skimage.color import label2rgb\n",
    "from matplotlib.patches import Rectangle\n",
    "\n",
    "# Library from numpy to mask arrays\n",
    "import numpy.ma as ma"
   ]
  },
  {
   "cell_type": "markdown",
   "id": "638d68b8",
   "metadata": {},
   "source": [
    "Links to libraries documentation\n",
    "1. Numpy ==> <https://numpy.org/doc/stable/reference/index.html>\n",
    "2. imageio ==> <https://imageio.readthedocs.io/en/stable/reference/userapi.html>\n",
    "3. matplotlib.pyplot ==> <https://matplotlib.org/stable/api/pyplot_summary.html>\n",
    "4. matplotlib_scalebar ==> <https://pypi.org/project/matplotlib-scalebar/>\n",
    "5. scikit-image ==> <https://scikit-image.org/docs/stable/api/api.html>\n",
    "6. scipy ==> <https://scipy.github.io/devdocs/reference/index.html>"
   ]
  },
  {
   "cell_type": "code",
   "execution_count": null,
   "id": "3a85634c",
   "metadata": {},
   "outputs": [],
   "source": [
    "%matplotlib notebook"
   ]
  },
  {
   "cell_type": "markdown",
   "id": "44d09bba",
   "metadata": {},
   "source": [
    "## Load and plot the data\n",
    "\n",
    "0013_Ceta.tif file is a TEM image and blobs.tif is a generic image used in Fiji as an example. You can switch between\n",
    "the two examples. Some parameters need to be adjusted to work properly in each case."
   ]
  },
  {
   "cell_type": "code",
   "execution_count": null,
   "id": "b6ed9536",
   "metadata": {},
   "outputs": [],
   "source": [
    "# Load the date with imageio\n",
    "\n"
   ]
  },
  {
   "cell_type": "code",
   "execution_count": null,
   "id": "5242c4c0",
   "metadata": {
    "scrolled": false
   },
   "outputs": [],
   "source": [
    "# Visualize the data with matplotlib\n",
    "\n"
   ]
  },
  {
   "cell_type": "markdown",
   "id": "ceab1f5c",
   "metadata": {},
   "source": [
    "## Gaussian smoothing \n",
    "\n",
    "Convolution of the image with a Gaussian kernel ==> Reduce noise at the cost of blurring"
   ]
  },
  {
   "cell_type": "code",
   "execution_count": null,
   "id": "2e18defa",
   "metadata": {},
   "outputs": [],
   "source": [
    "# 3x3 kernel of sigma = 1 pixel (not normalized)\n",
    "gaussian_kernel_3x3 = ...\n"
   ]
  },
  {
   "cell_type": "code",
   "execution_count": null,
   "id": "2c9c97e4",
   "metadata": {},
   "outputs": [],
   "source": [
    "# Normalize the gaussian kernel\n",
    "gaussian_kernel_3x3_norm = ..."
   ]
  },
  {
   "cell_type": "code",
   "execution_count": null,
   "id": "c382765d",
   "metadata": {},
   "outputs": [],
   "source": [
    "# Convolve the gaussian kernel with the image to output a smoothed image (use signal from scipy library)\n",
    "image_smooth_3x3 = ..."
   ]
  },
  {
   "cell_type": "code",
   "execution_count": null,
   "id": "01f26c23",
   "metadata": {},
   "outputs": [],
   "source": [
    "# Plot the original image and the smoothed image\n",
    "\n"
   ]
  },
  {
   "cell_type": "code",
   "execution_count": null,
   "id": "4adb4055",
   "metadata": {},
   "outputs": [],
   "source": []
  },
  {
   "cell_type": "code",
   "execution_count": null,
   "id": "e49b13c9",
   "metadata": {},
   "outputs": [],
   "source": []
  },
  {
   "cell_type": "code",
   "execution_count": null,
   "id": "38e61a1f",
   "metadata": {},
   "outputs": [],
   "source": []
  },
  {
   "cell_type": "code",
   "execution_count": null,
   "id": "6ad3de34",
   "metadata": {},
   "outputs": [],
   "source": []
  },
  {
   "cell_type": "code",
   "execution_count": null,
   "id": "4a9cb019",
   "metadata": {},
   "outputs": [],
   "source": []
  },
  {
   "cell_type": "code",
   "execution_count": null,
   "id": "a9abef2d",
   "metadata": {},
   "outputs": [],
   "source": []
  },
  {
   "cell_type": "code",
   "execution_count": null,
   "id": "dc9782be",
   "metadata": {},
   "outputs": [],
   "source": []
  },
  {
   "cell_type": "code",
   "execution_count": null,
   "id": "fb5b4105",
   "metadata": {},
   "outputs": [],
   "source": [
    "# 5x5 kernel of sigma = 1 pixel\n",
    "# Create, normalize, and display the kernel\n",
    "\n",
    "gaussian_kernel_5x5 = np.array([\n",
    "    [1,  4,  7,  4, 1], \n",
    "    [4, 16, 26, 16, 4], \n",
    "    [7, 26, 41, 26, 7], \n",
    "    [4, 16, 26, 16, 4], \n",
    "    [1,  4,  7,  4, 1]\n",
    "])\n",
    "gaussian_kernel_5x5_norm = gaussian_kernel_5x5 / np.sum(gaussian_kernel_5x5)\n",
    "print(gaussian_kernel_5x5, '\\n', gaussian_kernel_5x5_norm)"
   ]
  },
  {
   "cell_type": "code",
   "execution_count": null,
   "id": "ff745fe7",
   "metadata": {},
   "outputs": [],
   "source": [
    "# Convolve the original image with the 5x5 gaussian kernel\n",
    "image_smooth_5x5 = signal.convolve2d(image, gaussian_kernel_5x5_norm)"
   ]
  },
  {
   "cell_type": "code",
   "execution_count": null,
   "id": "da8e6ee0",
   "metadata": {},
   "outputs": [],
   "source": [
    "# Plot the original image and the two smoothed images\n",
    "fig = plt.figure(figsize=(9,9))\n",
    "ax_up = fig.add_subplot(311)\n",
    "ax_middle = fig.add_subplot(312, sharex=ax_up, sharey=ax_up) \n",
    "ax_down = fig.add_subplot(313, sharex=ax_up, sharey=ax_up)\n",
    "ax_up.imshow(image, cmap='gray')\n",
    "ax_middle.imshow(image_smooth_3x3, cmap='gray')\n",
    "ax_down.imshow(image_smooth_5x5, cmap='gray')\n",
    "\n",
    "plt.show()"
   ]
  },
  {
   "cell_type": "code",
   "execution_count": null,
   "id": "42ad4829",
   "metadata": {},
   "outputs": [],
   "source": [
    "# It is sometimes not necessary to build the kernels and do the convolution. Many filters are already available in skimage.\n",
    "\n",
    "image_smooth_sigma_1 ="
   ]
  },
  {
   "cell_type": "code",
   "execution_count": null,
   "id": "7d78bd52",
   "metadata": {},
   "outputs": [],
   "source": [
    "# Faster way to do a sigle plot to quickly visualize data\n",
    "\n",
    "fig, ax =  ..."
   ]
  },
  {
   "cell_type": "code",
   "execution_count": null,
   "id": "a2261577",
   "metadata": {},
   "outputs": [],
   "source": []
  },
  {
   "cell_type": "code",
   "execution_count": null,
   "id": "54707380",
   "metadata": {},
   "outputs": [],
   "source": []
  },
  {
   "cell_type": "code",
   "execution_count": null,
   "id": "9ee80b0b",
   "metadata": {},
   "outputs": [],
   "source": []
  },
  {
   "cell_type": "code",
   "execution_count": null,
   "id": "1a4344a1",
   "metadata": {},
   "outputs": [],
   "source": []
  },
  {
   "cell_type": "code",
   "execution_count": null,
   "id": "abb040ef",
   "metadata": {},
   "outputs": [],
   "source": []
  },
  {
   "cell_type": "code",
   "execution_count": null,
   "id": "d5650cc8",
   "metadata": {},
   "outputs": [],
   "source": []
  },
  {
   "cell_type": "code",
   "execution_count": null,
   "id": "6f1c50ea",
   "metadata": {},
   "outputs": [],
   "source": [
    "# Smooth the original image using the scikit-image gaussian function, with varying sigma values\n",
    "image_smooth_sigma_2 = filters.gaussian(image, sigma=2, preserve_range=True)\n",
    "image_smooth_sigma_4 = filters.gaussian(image, sigma=4, preserve_range=True)\n",
    "\n",
    "# Asymmetrical kernels (x and y directions are different)\n",
    "image_smooth_sigma_0x2 = filters.gaussian(image, sigma=[0,2], preserve_range=True)\n",
    "image_smooth_sigma_2x0 = filters.gaussian(image, sigma=[2,0], preserve_range=True)\n",
    "image_smooth_sigma_5x2 = filters.gaussian(image, sigma=[5,2], preserve_range=True)"
   ]
  },
  {
   "cell_type": "code",
   "execution_count": null,
   "id": "3a78bd42",
   "metadata": {},
   "outputs": [],
   "source": [
    "# plot the original image and all of the scikit-image smoothed images for comparison\n",
    "\n",
    "fig, axs = plt.subplots(3, 3, sharex=True, sharey=True, figsize=(9,9))\n",
    "axs[0, 0].imshow(image, cmap='gray')\n",
    "axs[1, 0].imshow(image_smooth_3x3, cmap='gray')\n",
    "axs[2, 0].imshow(image_smooth_5x5, cmap='gray')\n",
    "axs[0, 1].imshow(image_smooth_sigma_1, cmap='gray')\n",
    "axs[1, 1].imshow(image_smooth_sigma_2, cmap='gray')\n",
    "axs[2, 1].imshow(image_smooth_sigma_4, cmap='gray')\n",
    "axs[0, 2].imshow(image_smooth_sigma_0x2, cmap='gray')\n",
    "axs[1, 2].imshow(image_smooth_sigma_2x0, cmap='gray')\n",
    "axs[2, 2].imshow(image_smooth_sigma_5x2, cmap='gray')\n",
    "\n",
    "plt.show()"
   ]
  },
  {
   "cell_type": "code",
   "execution_count": null,
   "id": "7467f7d5",
   "metadata": {
    "scrolled": false
   },
   "outputs": [],
   "source": [
    "# plot the histograms of the original image, our homemade 3x3 kernel, \n",
    "# and two of the scikit-image smoothed images\n",
    "fig = plt.figure(figsize=(9,9))\n",
    "ax = fig.add_subplot(111)\n",
    "ax.hist(...)\n",
    "ax.legend()\n",
    "\n",
    "plt.show()"
   ]
  },
  {
   "cell_type": "code",
   "execution_count": null,
   "id": "e2a0ff28",
   "metadata": {},
   "outputs": [],
   "source": [
    "# plot a line profile across the original and smoothed images considered above\n",
    "\n",
    "fig = plt.figure(figsize=(9,9))\n",
    "ax = fig.add_subplot(111)\n",
    "ax.plot(image[120, :], linewidth=2, label='image')\n",
    "ax.plot(image_smooth_3x3[120, :], linewidth=2, label='image_smooth_3x3')\n",
    "ax.plot(image_smooth_sigma_2[120, :], linewidth=2, label='image_smooth_sigma_2')\n",
    "ax.plot(image_smooth_sigma_4[120, :], linewidth=2, label='image_smooth_sigma_4')\n",
    "ax.legend()\n",
    "\n",
    "plt.show()"
   ]
  },
  {
   "cell_type": "markdown",
   "id": "341cc808",
   "metadata": {},
   "source": [
    "## Binarization"
   ]
  },
  {
   "cell_type": "code",
   "execution_count": null,
   "id": "1d62716c",
   "metadata": {},
   "outputs": [],
   "source": [
    "# Plot a gently smoothed image and visualize the histogram\n",
    "fig = plt.figure(figsize=(9,9))\n",
    "ax_left = fig.add_subplot(121)\n",
    "ax_right = fig.add_subplot(122)\n",
    "ax_left.imshow(image_smooth_sigma_1, cmap='gray')\n",
    "ax_right.hist(image_smooth_sigma_1.ravel(), 100)\n",
    "plt.show()"
   ]
  },
  {
   "cell_type": "code",
   "execution_count": null,
   "id": "a2dfd532",
   "metadata": {},
   "outputs": [],
   "source": [
    "# Using a value chosen based on the histogram, apply a gray-level threshold to binarize the image\n",
    "image_threshold = ..."
   ]
  },
  {
   "cell_type": "code",
   "execution_count": null,
   "id": "7f9e99fa",
   "metadata": {},
   "outputs": [],
   "source": [
    "# change the type of the image from binary (True/False) to integers (1s and 0s)\n",
    "image_threshold = ..."
   ]
  },
  {
   "cell_type": "code",
   "execution_count": null,
   "id": "603e2c19",
   "metadata": {},
   "outputs": [],
   "source": [
    "# plot the binarized image\n"
   ]
  },
  {
   "cell_type": "code",
   "execution_count": null,
   "id": "154fa5cf",
   "metadata": {},
   "outputs": [],
   "source": []
  },
  {
   "cell_type": "code",
   "execution_count": null,
   "id": "e3f30125",
   "metadata": {},
   "outputs": [],
   "source": []
  },
  {
   "cell_type": "code",
   "execution_count": null,
   "id": "94e41c48",
   "metadata": {},
   "outputs": [],
   "source": []
  },
  {
   "cell_type": "code",
   "execution_count": null,
   "id": "bc5ca3c8",
   "metadata": {},
   "outputs": [],
   "source": []
  },
  {
   "cell_type": "code",
   "execution_count": null,
   "id": "f5dbc9f9",
   "metadata": {},
   "outputs": [],
   "source": []
  },
  {
   "cell_type": "code",
   "execution_count": null,
   "id": "a53a0a82",
   "metadata": {},
   "outputs": [],
   "source": [
    "# Use an Otsu threshold algorithm to identify the optimal binarization gray value to \n",
    "# separate the dark and bright features\n",
    "\n",
    "otsu = filters.threshold_otsu(image_smooth_sigma_1)\n",
    "image_threshold_otsu = image_smooth_sigma_1 < otsu\n",
    "print(otsu)"
   ]
  },
  {
   "cell_type": "code",
   "execution_count": null,
   "id": "b521947d",
   "metadata": {},
   "outputs": [],
   "source": [
    "# Use an ISODATA algorithm to identify the optimal threshold to separate bright and dark features\n",
    "\n",
    "iso_data = filters.threshold_isodata(image_smooth_sigma_1)\n",
    "image_threshold_iso_data = image_smooth_sigma_1 < iso_data\n",
    "print(iso_data)"
   ]
  },
  {
   "cell_type": "code",
   "execution_count": null,
   "id": "a410c53c",
   "metadata": {},
   "outputs": [],
   "source": [
    "# Use Yen's method to identify the optimal threshold value to separate bright and dark features\n",
    "\n",
    "yen = filters.threshold_yen(image_smooth_sigma_1)\n",
    "image_threshold_yen = image_smooth_sigma_1 < yen\n",
    "print(yen)"
   ]
  },
  {
   "cell_type": "code",
   "execution_count": null,
   "id": "ffd7f1e0",
   "metadata": {},
   "outputs": [],
   "source": [
    "# Plot the four binarized images to compare the different methods\n",
    "\n",
    "fig, axs = ..."
   ]
  },
  {
   "cell_type": "code",
   "execution_count": null,
   "id": "3cfb91b4",
   "metadata": {},
   "outputs": [],
   "source": [
    "# An alternate method of applying a threshold, using numpy\n",
    "\n",
    "image_threshold_alt = np.where(image_smooth_sigma_1 < 135, 1, 0)\n",
    "print(image_threshold_alt)"
   ]
  },
  {
   "cell_type": "code",
   "execution_count": null,
   "id": "19a212f1",
   "metadata": {},
   "outputs": [],
   "source": [
    "# plot the binarized image from the alternate threshold method\n",
    "\n",
    "fig = plt.figure()\n",
    "ax = fig.add_subplot(111)\n",
    "ax.imshow(image_threshold_alt, cmap='gray')\n",
    "\n",
    "plt.show()"
   ]
  },
  {
   "cell_type": "code",
   "execution_count": null,
   "id": "677a1754",
   "metadata": {
    "scrolled": true
   },
   "outputs": [],
   "source": [
    "# A method of adaptive thresholding, sensitive to the local pixel neighbourhood, to separate foreground and background\n",
    "\n",
    "image_threshold_local = filters.threshold_local(image_smooth_sigma_1, block_size=5)\n",
    "print(image_threshold_local)"
   ]
  },
  {
   "cell_type": "code",
   "execution_count": null,
   "id": "816bf01e",
   "metadata": {},
   "outputs": [],
   "source": [
    "# plot the threshold image\n",
    "\n",
    "fig = plt.figure()\n",
    "ax = fig.add_subplot(111)\n",
    "ax.imshow(image_threshold_local, cmap='gray')\n",
    "\n",
    "plt.show()"
   ]
  },
  {
   "cell_type": "code",
   "execution_count": null,
   "id": "5456e9fe",
   "metadata": {},
   "outputs": [],
   "source": [
    "# apply the threshold image values as local thresholds to the input gently-smoothed image\n",
    "# all pixels in the smoothed image higher than the value in the threshold image are 'foreground'\n",
    "\n",
    "block_size = 35\n",
    "local_thresh = filters.threshold_local(image_smooth_sigma_1, block_size, offset=10)\n",
    "binary_local = image_smooth_sigma_1 < local_thresh\n",
    "binary_local = binary_local.astype(int)\n",
    "\n",
    "print(binary_local)"
   ]
  },
  {
   "cell_type": "code",
   "execution_count": null,
   "id": "af4f104a",
   "metadata": {},
   "outputs": [],
   "source": [
    "# plot the resulting binarized image\n",
    "\n",
    "fig = plt.figure()\n",
    "ax = fig.add_subplot(111)\n",
    "ax.imshow(binary_local, cmap='gray')\n",
    "\n",
    "plt.show()"
   ]
  },
  {
   "cell_type": "markdown",
   "id": "25d6b104",
   "metadata": {},
   "source": [
    "## Segmentation // Labelling"
   ]
  },
  {
   "cell_type": "code",
   "execution_count": null,
   "id": "3928f8a7",
   "metadata": {},
   "outputs": [],
   "source": [
    "# Identify and label connected regions of the binarized image (for particle counting)\n",
    "\n",
    "labels_image_threshold = measure.label(image_threshold_otsu, background=0, return_num=True, connectivity = 1)\n",
    "print(labels_image_threshold)"
   ]
  },
  {
   "cell_type": "code",
   "execution_count": null,
   "id": "1e60a737",
   "metadata": {
    "scrolled": false
   },
   "outputs": [],
   "source": [
    "# Plot the labelled image, complete with labels for each identified region\n",
    "\n",
    "fig = plt.figure(figsize=(8,8))\n",
    "ax = fig.add_subplot(111)\n",
    "im_disp = ax.imshow(labels_image_threshold[0][0:60, 0:60], cmap='tab20b')\n",
    "plt.colorbar(im_disp, ax=ax)\n",
    "\n",
    "for index, label in np.ndenumerate(labels_image_threshold[0][0:60, 0:60]):\n",
    "    ax.annotate(label, (index[1], index[0]), horizontalalignment='center', verticalalignment='center', size=9)\n",
    "\n",
    "plt.show()"
   ]
  },
  {
   "cell_type": "code",
   "execution_count": null,
   "id": "650dde92",
   "metadata": {},
   "outputs": [],
   "source": [
    "# plot the labelled image, using colours to identify different regions\n",
    "\n",
    "fig = plt.figure(figsize=(8,8))\n",
    "ax = fig.add_subplot(111)\n",
    "im_disp = ax.imshow(labels_image_threshold[0], cmap='prism')\n",
    "plt.colorbar(im_disp, ax=ax)\n",
    "plt.show()"
   ]
  },
  {
   "cell_type": "code",
   "execution_count": null,
   "id": "d458ff48",
   "metadata": {
    "scrolled": false
   },
   "outputs": [],
   "source": [
    "# select and plot individual regions from the labelled image\n",
    "fig, axs = plt.subplots(3, 3, sharex=True, sharey=True, figsize=(9,9))\n",
    "axs[0, 0].imshow(labels_image_threshold[0]==0, cmap='gray')\n",
    "axs[0, 1].imshow(labels_image_threshold[0]==1, cmap='gray')\n",
    "axs[0, 2].imshow(labels_image_threshold[0]==5, cmap='gray')\n",
    "axs[1, 0].imshow(labels_image_threshold[0]==26, cmap='gray')\n",
    "axs[1, 1].imshow(labels_image_threshold[0]==68, cmap='gray')\n",
    "axs[1, 2].imshow(labels_image_threshold[0]==77, cmap='gray')\n",
    "axs[2, 0].imshow(labels_image_threshold[0]==84, cmap='gray')\n",
    "axs[2, 1].imshow(labels_image_threshold[0]==111, cmap='gray')\n",
    "axs[2, 2].imshow(labels_image_threshold[0]==161, cmap='gray')\n",
    "\n",
    "plt.show()"
   ]
  },
  {
   "cell_type": "code",
   "execution_count": null,
   "id": "31ea0288",
   "metadata": {},
   "outputs": [],
   "source": [
    "# Introduce numpy masked arrays, using the labelled image as a mask for the smoothed image\n",
    "\n",
    "image_smooth_sigma_1_masked_background = ma.masked_array(\n",
    "    image_smooth_sigma_1, \n",
    "    mask=labels_image_threshold[0]==0\n",
    ")"
   ]
  },
  {
   "cell_type": "code",
   "execution_count": null,
   "id": "5694095c",
   "metadata": {},
   "outputs": [],
   "source": [
    "# Print the masked array\n",
    "\n",
    "print(image_smooth_sigma_1_masked_background)\n",
    "print(np.shape(image_smooth_sigma_1_masked_background))"
   ]
  },
  {
   "cell_type": "code",
   "execution_count": null,
   "id": "57251dfa",
   "metadata": {
    "scrolled": false
   },
   "outputs": [],
   "source": [
    "# plot the masked array\n",
    "\n",
    "fig = plt.figure(figsize=(8,8))\n",
    "ax = fig.add_subplot(111)\n",
    "im_disp = ax.imshow(image_smooth_sigma_1_masked_background, cmap='gray')\n",
    "plt.colorbar(im_disp, ax=ax)\n",
    "plt.show()"
   ]
  },
  {
   "cell_type": "code",
   "execution_count": null,
   "id": "cbc22b36",
   "metadata": {},
   "outputs": [],
   "source": [
    "# Make a masked array using only a single labelled region\n",
    "image_smooth_sigma_1_masked_label_68 = ma.masked_array(\n",
    "    image_smooth_sigma_1, \n",
    "    mask=np.invert(labels_image_threshold[0]==68)\n",
    ")"
   ]
  },
  {
   "cell_type": "code",
   "execution_count": null,
   "id": "bb6eb44e",
   "metadata": {},
   "outputs": [],
   "source": [
    "# Plot this masked single labelled region\n",
    "fig = plt.figure(figsize=(8,8))\n",
    "ax = fig.add_subplot(111)\n",
    "im_disp = ax.imshow(image_smooth_sigma_1_masked_label_68, cmap='gray')\n",
    "plt.colorbar(im_disp, ax=ax)\n",
    "plt.show()"
   ]
  },
  {
   "cell_type": "markdown",
   "id": "005c818a",
   "metadata": {},
   "source": [
    "## Simple measurements of features"
   ]
  },
  {
   "cell_type": "code",
   "execution_count": null,
   "id": "a4304d2b",
   "metadata": {},
   "outputs": [],
   "source": [
    "# Measure couple of properties of labelled regions excluding the region with label 0 (background)\n",
    "properties = measure.regionprops(labels_image_threshold[0])"
   ]
  },
  {
   "cell_type": "code",
   "execution_count": null,
   "id": "6d57649f",
   "metadata": {},
   "outputs": [],
   "source": [
    "# Label 68 becomes item 67\n",
    "print(properties[67].centroid)\n",
    "print(properties[67].area)\n",
    "print(properties[67].perimeter)"
   ]
  },
  {
   "cell_type": "code",
   "execution_count": null,
   "id": "805cac13",
   "metadata": {},
   "outputs": [],
   "source": [
    "# compute the contours around the labelled regions\n",
    "contours=[]\n",
    "for i in range(1, labels_image_threshold[0].max()):\n",
    "    contour = measure.find_contours(labels_image_threshold[0] == i, 0.9)[0]\n",
    "    contours.append(contour)"
   ]
  },
  {
   "cell_type": "code",
   "execution_count": null,
   "id": "377adccc",
   "metadata": {},
   "outputs": [],
   "source": [
    "print(len(contours))\n",
    "print(np.shape(contours[67]))"
   ]
  },
  {
   "cell_type": "code",
   "execution_count": null,
   "id": "2db1ea3a",
   "metadata": {
    "scrolled": false
   },
   "outputs": [],
   "source": [
    "# plot a single particle and its contour and centroid\n",
    "fig = plt.figure()\n",
    "ax = fig.add_subplot(111)\n",
    "ax.imshow(labels_image_threshold[0]==68, cmap='gray')\n",
    "ax.scatter(properties[67].centroid[1], properties[67].centroid[0], 10)\n",
    "ax.plot(contours[67][:, 1], contours[67][:, 0], color='red')\n",
    "ax.annotate(properties[67].label, (properties[67].centroid[1], properties[67].centroid[0]))\n",
    "\n",
    "plt.show()"
   ]
  },
  {
   "cell_type": "code",
   "execution_count": null,
   "id": "b73624ee",
   "metadata": {},
   "outputs": [],
   "source": [
    "# select some labels of interest\n",
    "label_of_interest = np.array([1, 5, 26, 68, 77, 84, 111, 161])\n",
    "label_of_interest = label_of_interest - 1\n",
    "\n",
    "# plot the contours and centroids of the selected regions\n",
    "fig = plt.figure()\n",
    "ax = fig.add_subplot(111)\n",
    "ax.imshow(image_smooth_sigma_1, cmap='gray')\n",
    "for element in label_of_interest:\n",
    "    ax.scatter(properties[element].centroid[1], properties[element].centroid[0], 30)\n",
    "    ax.plot(contours[element][:, 1], contours[element][:, 0], color='red')\n",
    "    ax.annotate(\n",
    "        properties[element].label, \n",
    "        (properties[element].centroid[1] + 2 , properties[element].centroid[0] - 2), \n",
    "        color='green', \n",
    "        size=12\n",
    "    )"
   ]
  },
  {
   "cell_type": "code",
   "execution_count": null,
   "id": "258a645f",
   "metadata": {},
   "outputs": [],
   "source": [
    "# Other labels of interest\n",
    "label_of_interest = np.array([ 17, 18, 19, 20, 21])\n",
    "label_of_interest = label_of_interest - 1\n",
    "\n",
    "# plot the contours and centroids of the selected regions\n",
    "fig = plt.figure()\n",
    "ax = fig.add_subplot(111)\n",
    "ax.imshow(image_smooth_sigma_1, cmap='gray')\n",
    "for element in label_of_interest:\n",
    "    ax.scatter(properties[element].centroid[1], properties[element].centroid[0], 30)\n",
    "    ax.plot(contours[element][:, 1], contours[element][:, 0], color='red')\n",
    "    ax.annotate(\n",
    "        properties[element].label, \n",
    "        (properties[element].centroid[1] + 2 , properties[element].centroid[0] - 2), \n",
    "        color='green', \n",
    "        size=12\n",
    "    )"
   ]
  },
  {
   "cell_type": "code",
   "execution_count": null,
   "id": "2c7ccd1e",
   "metadata": {},
   "outputs": [],
   "source": [
    "# Compute the properties of the identified particles\n",
    "properties_table = measure.regionprops_table(\n",
    "    labels_image_threshold[0], \n",
    "    properties=['label', 'area', 'centroid', 'perimeter']\n",
    ")"
   ]
  },
  {
   "cell_type": "code",
   "execution_count": null,
   "id": "a36900ef",
   "metadata": {
    "scrolled": false
   },
   "outputs": [],
   "source": [
    "# Print the table of properties\n",
    "properties_table"
   ]
  },
  {
   "cell_type": "code",
   "execution_count": null,
   "id": "2d76fc11",
   "metadata": {},
   "outputs": [],
   "source": [
    "# Filter the data based on area\n",
    "\n",
    "indices_to_remove = []\n",
    "properties_table_filtered = {}\n",
    "\n",
    "for i in range(0, np.max(properties_table['label'])):\n",
    "    if properties_table['area'][i] < 50 or properties_table['area'][i] > 10000:\n",
    "        indices_to_remove.append(i)\n",
    "        \n",
    "for key in properties_table.keys():\n",
    "    properties_table_filtered[key] = properties_table[key][~np.isin(np.arange(properties_table[key].size), indices_to_remove)]\n"
   ]
  },
  {
   "cell_type": "code",
   "execution_count": null,
   "id": "bfec5a10",
   "metadata": {
    "scrolled": false
   },
   "outputs": [],
   "source": [
    "print(properties_table_filtered)"
   ]
  },
  {
   "cell_type": "code",
   "execution_count": null,
   "id": "e26fda5f",
   "metadata": {},
   "outputs": [],
   "source": [
    "# Select all the labels of interest\n",
    "label_of_interest = properties_table_filtered['label']\n",
    "label_of_interest = label_of_interest - 1\n",
    "\n",
    "# Plot the contours and centroids of the selected regions\n",
    "fig = plt.figure()\n",
    "ax = fig.add_subplot(111)\n",
    "ax.imshow(image_smooth_sigma_1, cmap='gray')\n",
    "for element in label_of_interest:\n",
    "    ax.scatter(properties[element].centroid[1], properties[element].centroid[0], 30)\n",
    "    ax.plot(contours[element][:, 1], contours[element][:, 0], color='red')\n",
    "    ax.annotate(\n",
    "        properties[element].label, \n",
    "        (properties[element].centroid[1] + 2 , properties[element].centroid[0] - 2), \n",
    "        color='green', \n",
    "        size=12\n",
    "    )"
   ]
  },
  {
   "cell_type": "code",
   "execution_count": null,
   "id": "df52727f",
   "metadata": {},
   "outputs": [],
   "source": [
    "# Statistical representation of the relevant areas\n",
    "\n",
    "fig = plt.figure()\n",
    "ax = fig.add_subplot(111)\n",
    "ax.hist(properties_table_filtered['area'], 20)\n",
    "\n",
    "plt.show()"
   ]
  },
  {
   "cell_type": "code",
   "execution_count": null,
   "id": "bf341bf4",
   "metadata": {},
   "outputs": [],
   "source": []
  }
 ],
 "metadata": {
  "kernelspec": {
   "display_name": "Python 3 (ipykernel)",
   "language": "python",
   "name": "python3"
  },
  "language_info": {
   "codemirror_mode": {
    "name": "ipython",
    "version": 3
   },
   "file_extension": ".py",
   "mimetype": "text/x-python",
   "name": "python",
   "nbconvert_exporter": "python",
   "pygments_lexer": "ipython3",
   "version": "3.9.0"
  }
 },
 "nbformat": 4,
 "nbformat_minor": 5
}
