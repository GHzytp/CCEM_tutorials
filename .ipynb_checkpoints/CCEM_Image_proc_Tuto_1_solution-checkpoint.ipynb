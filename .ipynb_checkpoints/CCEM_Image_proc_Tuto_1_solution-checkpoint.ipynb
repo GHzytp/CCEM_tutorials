{
 "cells": [
  {
   "cell_type": "markdown",
   "id": "5d64881d",
   "metadata": {},
   "source": [
    "# **CCEM Image processing #1**\n",
    "\n",
    "Introduction to jupyter notebook ==> display and process data"
   ]
  },
  {
   "cell_type": "code",
   "execution_count": null,
   "id": "9e31b5c3",
   "metadata": {
    "scrolled": true
   },
   "outputs": [],
   "source": [
    "# Install the required packages in Jupyter kernel (internet connection required)\n",
    "import sys\n",
    "!{sys.executable} -m pip install numpy\n",
    "!{sys.executable} -m pip install imageio\n",
    "!{sys.executable} -m pip install matplotlib\n",
    "!{sys.executable} -m pip install matplotlib_scalebar\n"
   ]
  },
  {
   "cell_type": "code",
   "execution_count": null,
   "id": "f7412267",
   "metadata": {},
   "outputs": [],
   "source": [
    "# Import the required packages\n",
    "import numpy as np\n",
    "import imageio as io\n",
    "import matplotlib.pyplot as plt\n",
    "from matplotlib_scalebar.scalebar import ScaleBar"
   ]
  },
  {
   "cell_type": "code",
   "execution_count": null,
   "id": "03608d40",
   "metadata": {},
   "outputs": [],
   "source": [
    "# Command to get some interactivity with the data plotted\n",
    "%matplotlib notebook"
   ]
  },
  {
   "cell_type": "markdown",
   "id": "f6eae6df",
   "metadata": {},
   "source": [
    "## Simple plotting example"
   ]
  },
  {
   "cell_type": "code",
   "execution_count": null,
   "id": "879b2c32",
   "metadata": {},
   "outputs": [],
   "source": [
    "x = np.array([0, 1, 2, 3, 4, 5])\n",
    "y = x\n",
    "z = x ** 2\n",
    "\n",
    "print('x = ', x)\n",
    "print('y = ', y)\n",
    "print('z = ', z)"
   ]
  },
  {
   "cell_type": "code",
   "execution_count": null,
   "id": "6071318f",
   "metadata": {},
   "outputs": [],
   "source": [
    "fig = plt.figure()\n",
    "ax = fig.add_subplot(111)\n",
    "ax.plot(x,y)\n",
    "ax.plot(x,z)\n",
    "\n",
    "plt.show()"
   ]
  },
  {
   "cell_type": "code",
   "execution_count": null,
   "id": "56c18ce5",
   "metadata": {},
   "outputs": [],
   "source": [
    "fig = plt.figure()\n",
    "ax = fig.add_subplot(111)\n",
    "ax.plot(x,y, label='y=x')\n",
    "ax.plot(x,z, label='y=x^2')\n",
    "ax.set_xlabel('x label')  # Add an x-label to the axes.\n",
    "ax.set_ylabel('y label')  # Add a y-label to the axes.\n",
    "ax.set_title(\"Simple Plot\")  # Add a title to the ax\n",
    "ax.legend() # Add legend\n",
    "\n",
    "plt.show()"
   ]
  },
  {
   "cell_type": "markdown",
   "id": "cff5fd2a",
   "metadata": {},
   "source": [
    "*Exercise: plot the cosine fuction in [0;10]*"
   ]
  },
  {
   "cell_type": "code",
   "execution_count": null,
   "id": "6a2b858a",
   "metadata": {},
   "outputs": [],
   "source": [
    "x = np.linspace(0,10,1000)\n",
    "y = np.cos(x)\n",
    "\n",
    "fig = plt.figure()\n",
    "ax = fig.add_subplot(111)\n",
    "ax.set_xlabel('X')\n",
    "ax.set_ylabel('Y')\n",
    "ax.plot(x,y, label='Y=cos(X)')\n",
    "ax.legend()\n",
    "\n",
    "plt.show()"
   ]
  },
  {
   "cell_type": "markdown",
   "id": "c956a68e",
   "metadata": {},
   "source": [
    "## Display image\n",
    "\n",
    "1. Load image\n",
    "2. Display 2D array\n",
    "3. Display properties"
   ]
  },
  {
   "cell_type": "code",
   "execution_count": null,
   "id": "57bf72a4",
   "metadata": {},
   "outputs": [],
   "source": [
    "# Load the data ==> Image .tif converted in a 2D numpy array\n",
    "image = io.imread('Silicon_Ref_7M2_2048_demo.tif')\n",
    "image_array = np.array(image)"
   ]
  },
  {
   "cell_type": "code",
   "execution_count": null,
   "id": "daa587a2",
   "metadata": {},
   "outputs": [],
   "source": [
    "print('Image')\n",
    "print(image)\n",
    "print(type(image))\n",
    "\n",
    "print('\\n')\n",
    "\n",
    "print('Image array')\n",
    "print(image_array)\n",
    "print(type(image_array))"
   ]
  },
  {
   "cell_type": "code",
   "execution_count": null,
   "id": "64ffc64e",
   "metadata": {},
   "outputs": [],
   "source": [
    "# Plot the data loaded\n",
    "fig = plt.figure()\n",
    "ax = fig.add_subplot(111)\n",
    "ax.imshow(image_array)\n",
    "\n",
    "plt.show()"
   ]
  },
  {
   "cell_type": "code",
   "execution_count": null,
   "id": "9012c59a",
   "metadata": {},
   "outputs": [],
   "source": [
    "fig = plt.figure(figsize=(9,9))\n",
    "ax = fig.add_subplot(111)\n",
    "ax.imshow(image_array, cmap='gray')\n",
    "\n",
    "plt.show()"
   ]
  },
  {
   "cell_type": "code",
   "execution_count": null,
   "id": "a204cc6d",
   "metadata": {},
   "outputs": [],
   "source": [
    "fig = plt.figure(figsize=(9,9))\n",
    "ax_left = fig.add_subplot(121)\n",
    "ax_right = fig.add_subplot(122, sharex=ax_left, sharey=ax_left)\n",
    "ax_left.imshow(image_array, cmap='gray')\n",
    "ax_right.imshow(image_array, cmap='jet')\n",
    "\n",
    "plt.show()"
   ]
  },
  {
   "cell_type": "code",
   "execution_count": null,
   "id": "52c0f506",
   "metadata": {},
   "outputs": [],
   "source": [
    "fig = plt.figure(figsize=(9,9))\n",
    "ax = fig.add_subplot(111)\n",
    "im_disp = ax.imshow(image_array, cmap='gray')\n",
    "\n",
    "# Create colorbar\n",
    "plt.colorbar(im_disp, ax=ax)\n",
    "\n",
    "# Create scalebar\n",
    "scalebar = ScaleBar(5.28, \"pm\")\n",
    "ax.add_artist(scalebar)\n",
    "\n",
    "# Remove ticks and labels from image\n",
    "ax.tick_params(left = False, right = False , labelleft = False ,\n",
    "                labelbottom = False, bottom = False)\n",
    "\n",
    "\n",
    "plt.show()"
   ]
  },
  {
   "cell_type": "code",
   "execution_count": null,
   "id": "08bb5b7d",
   "metadata": {},
   "outputs": [],
   "source": [
    "fig = plt.figure(figsize=(9,9))\n",
    "ax = fig.add_subplot(111)\n",
    "im_disp = ax.imshow(image_array, cmap='gray', interpolation='gaussian') # interpolation keyword changed\n",
    "\n",
    "# Create colorbar\n",
    "plt.colorbar(im_disp, ax=ax)\n",
    "\n",
    "# Create scalebar\n",
    "scalebar = ScaleBar(5.28, \"pm\")\n",
    "ax.add_artist(scalebar)\n",
    "\n",
    "# Remove ticks and labels from image\n",
    "ax.tick_params(left = False, right = False , labelleft = False ,\n",
    "                labelbottom = False, bottom = False)\n",
    "\n",
    "plt.show()"
   ]
  },
  {
   "cell_type": "code",
   "execution_count": null,
   "id": "4ba91f52",
   "metadata": {},
   "outputs": [],
   "source": [
    "fig = plt.figure(figsize=(9,9))\n",
    "ax = fig.add_subplot(111)\n",
    "ax.hist(image_array.ravel(), 100) # Histogram plot\n",
    "\n",
    "plt.show()"
   ]
  },
  {
   "cell_type": "code",
   "execution_count": null,
   "id": "50d9b9e8",
   "metadata": {},
   "outputs": [],
   "source": [
    "fig = plt.figure(figsize=(9,9))\n",
    "ax = fig.add_subplot(111)\n",
    "im_disp = ax.imshow(image_array, cmap='gray', clim=(10000, 20000)) # contrast limit (clim) keyword changed\n",
    "\n",
    "# Create colorbar\n",
    "plt.colorbar(im_disp, ax=ax)\n",
    "\n",
    "# Create scalebar\n",
    "scalebar = ScaleBar(5.28, \"pm\")\n",
    "ax.add_artist(scalebar)\n",
    "\n",
    "# Remove ticks and labels from image\n",
    "ax.tick_params(left = False, right = False , labelleft = False ,\n",
    "                labelbottom = False, bottom = False)\n",
    "\n",
    "plt.show()"
   ]
  },
  {
   "cell_type": "code",
   "execution_count": null,
   "id": "df833e1b",
   "metadata": {},
   "outputs": [],
   "source": [
    "fig = plt.figure(figsize=(9,9))\n",
    "ax_left = fig.add_subplot(121)\n",
    "ax_right = fig.add_subplot(122, sharex=ax_left, sharey=ax_left)\n",
    "ax_left.imshow(image_array, cmap='gray')\n",
    "ax_right.imshow(image_array, cmap='gray', clim=(12000, 20000))\n",
    "\n",
    "ax_left.set_title('Default')\n",
    "ax_right.set_title('Contrast adjusted')\n",
    "\n",
    "plt.show()"
   ]
  },
  {
   "cell_type": "code",
   "execution_count": null,
   "id": "5f7e1e62",
   "metadata": {},
   "outputs": [],
   "source": [
    "fig = plt.figure(figsize=(9,9))\n",
    "ax_left = fig.add_subplot(121)\n",
    "ax_right = fig.add_subplot(122, sharex=ax_left, sharey=ax_left)\n",
    "ax_left.imshow(image_array, cmap='inferno')\n",
    "ax_right.imshow(image_array, cmap='inferno', clim=(12000, 20000))\n",
    "\n",
    "ax_left.set_title('Default')\n",
    "ax_right.set_title('Contrast adjusted')\n",
    "\n",
    "plt.show()"
   ]
  },
  {
   "cell_type": "markdown",
   "id": "cc31094f",
   "metadata": {},
   "source": [
    "*Exercise: Load your own image (2D array) and display it with \"blue white red\" colormap and different contrast levels*"
   ]
  },
  {
   "cell_type": "code",
   "execution_count": null,
   "id": "0af99a24",
   "metadata": {},
   "outputs": [],
   "source": [
    "image_exercise = io.imread('ST1-Sq3_S7_(9,6).tif')\n",
    "image_exercise_array = np.array(image_exercise)[:,:,2]\n",
    "\n",
    "print(image_exercise_array.shape)\n",
    "\n",
    "fig = plt.figure()\n",
    "ax = fig.add_subplot(111)\n",
    "ax.hist(image_exercise_array.ravel(),100)\n",
    "\n",
    "plt.show()"
   ]
  },
  {
   "cell_type": "code",
   "execution_count": null,
   "id": "c2566b0f",
   "metadata": {},
   "outputs": [],
   "source": [
    "fig = plt.figure(figsize=(9,9))\n",
    "ax_1 = fig.add_subplot(221)\n",
    "ax_2 = fig.add_subplot(222, sharex=ax_1, sharey=ax_1)\n",
    "ax_3 = fig.add_subplot(223, sharex=ax_1, sharey=ax_1)\n",
    "ax_4 = fig.add_subplot(224, sharex=ax_1, sharey=ax_1)\n",
    "\n",
    "im1 = ax_1.imshow(image_exercise_array, cmap='bwr')\n",
    "im2 = ax_2.imshow(image_exercise_array, cmap='bwr', clim=(0,50))\n",
    "im3 = ax_3.imshow(image_exercise_array, cmap='bwr', clim=(50,150))\n",
    "im4 = ax_4.imshow(image_exercise_array, cmap='bwr', clim=(100,200))\n",
    "\n",
    "ax_1.set_title('Default')\n",
    "ax_2.set_title('Contrast 1')\n",
    "ax_3.set_title('Contrast 2')\n",
    "ax_4.set_title('Contrast 3')\n",
    "\n",
    "ax_1.axis('off')\n",
    "ax_2.axis('off')\n",
    "ax_3.axis('off')\n",
    "ax_4.axis('off')\n",
    "\n",
    "plt.colorbar(im1, ax=ax_1, shrink=0.7)\n",
    "plt.colorbar(im2, ax=ax_2, shrink=0.7)\n",
    "plt.colorbar(im3, ax=ax_3, shrink=0.7)\n",
    "plt.colorbar(im4, ax=ax_4, shrink=0.7)\n",
    "\n",
    "plt.show()"
   ]
  },
  {
   "cell_type": "markdown",
   "id": "205d5bc4",
   "metadata": {},
   "source": [
    "# Manipulate image\n"
   ]
  },
  {
   "cell_type": "code",
   "execution_count": null,
   "id": "acd4909d",
   "metadata": {},
   "outputs": [],
   "source": [
    "# To be done (slicing, masking, ft ? )"
   ]
  }
 ],
 "metadata": {
  "kernelspec": {
   "display_name": "Python 3 (ipykernel)",
   "language": "python",
   "name": "python3"
  },
  "language_info": {
   "codemirror_mode": {
    "name": "ipython",
    "version": 3
   },
   "file_extension": ".py",
   "mimetype": "text/x-python",
   "name": "python",
   "nbconvert_exporter": "python",
   "pygments_lexer": "ipython3",
   "version": "3.10.0"
  }
 },
 "nbformat": 4,
 "nbformat_minor": 5
}
