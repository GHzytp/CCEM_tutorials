{
 "cells": [
  {
   "cell_type": "markdown",
   "metadata": {},
   "source": [
    "# **CCEM Image processing #1**\n",
    "\n",
    "Introduction to display and process data using jupyter notebook"
   ]
  },
  {
   "cell_type": "code",
   "execution_count": null,
   "metadata": {},
   "outputs": [],
   "source": [
    "# Install the required packages in Jupyter kernel (internet connection required)\n",
    "import sys\n",
    "!{sys.executable} -m pip install numpy\n",
    "!{sys.executable} -m pip install imageio\n",
    "!{sys.executable} -m pip install matplotlib\n",
    "!{sys.executable} -m pip install matplotlib_scalebar\n"
   ]
  },
  {
   "cell_type": "code",
   "execution_count": null,
   "metadata": {},
   "outputs": [],
   "source": [
    "# Import the required packages\n",
    "import numpy as np\n",
    "import imageio as io\n",
    "import matplotlib.pyplot as plt\n",
    "from matplotlib_scalebar.scalebar import ScaleBar"
   ]
  },
  {
   "cell_type": "code",
   "execution_count": null,
   "metadata": {},
   "outputs": [],
   "source": [
    "# Command to get some interactivity with the data plotted\n",
    "%matplotlib notebook"
   ]
  },
  {
   "cell_type": "code",
   "execution_count": null,
   "metadata": {},
   "outputs": [],
   "source": [
    "# Plotting example\n",
    "\n",
    "x = np.array([0, 1, 2, 3, 4, 5])\n",
    "y = x\n",
    "z = x ** 2\n",
    "\n",
    "print('x = ', x)\n",
    "print('y = ', y)\n",
    "print('z = ', z)\n",
    "\n",
    "fig = plt.figure()\n",
    "ax = fig.add_subplot(111)\n",
    "ax.plot(x,y)\n",
    "ax.plot(x,z)\n",
    "plt.show()"
   ]
  },
  {
   "cell_type": "code",
   "execution_count": null,
   "metadata": {},
   "outputs": [],
   "source": [
    "fig = plt.figure()\n",
    "ax = fig.add_subplot(111)\n",
    "ax.plot(x,y, label='y=x')\n",
    "ax.plot(x,z, label='y=x^2')\n",
    "ax.set_xlabel('x label')  # Add an x-label to the axes.\n",
    "ax.set_ylabel('y label')  # Add a y-label to the axes.\n",
    "ax.set_title(\"Simple Plot\")  # Add a title to the ax\n",
    "ax.legend() # Add legend\n",
    "\n",
    "plt.show()"
   ]
  },
  {
   "cell_type": "code",
   "execution_count": null,
   "metadata": {},
   "outputs": [],
   "source": [
    "# Load the data ==> Image .tif converted in a 2D numpy array\n",
    "image = io.imread('Silicon_Ref_7M2_2048_demo.tif')\n",
    "image_array = np.array(image)"
   ]
  },
  {
   "cell_type": "code",
   "execution_count": null,
   "metadata": {},
   "outputs": [],
   "source": [
    "print('Image')\n",
    "print(image)\n",
    "print(type(image))\n",
    "\n",
    "print('\\n')\n",
    "\n",
    "print('Image array')\n",
    "print(image_array)\n",
    "print(type(image_array))"
   ]
  },
  {
   "cell_type": "code",
   "execution_count": null,
   "metadata": {},
   "outputs": [],
   "source": [
    "# Plot the data loaded\n",
    "fig = plt.figure()\n",
    "ax = fig.add_subplot(111)\n",
    "ax.imshow(image_array)\n",
    "plt.show()\n"
   ]
  },
  {
   "cell_type": "code",
   "execution_count": null,
   "metadata": {},
   "outputs": [],
   "source": [
    "fig = plt.figure(figsize=(9,9))\n",
    "ax = fig.add_subplot(111)\n",
    "ax.imshow(image_array, cmap='gray')\n",
    "plt.show()"
   ]
  },
  {
   "cell_type": "code",
   "execution_count": null,
   "metadata": {},
   "outputs": [],
   "source": [
    "fig = plt.figure(figsize=(9,9))\n",
    "ax_left = fig.add_subplot(121)\n",
    "ax_right = fig.add_subplot(122)\n",
    "ax_left.imshow(image_array, cmap='gray')\n",
    "ax_right.imshow(image_array, cmap='jet')\n",
    "plt.show()"
   ]
  },
  {
   "cell_type": "code",
   "execution_count": null,
   "metadata": {},
   "outputs": [],
   "source": [
    "fig = plt.figure(figsize=(9,9))\n",
    "ax = fig.add_subplot(111)\n",
    "im_disp = ax.imshow(image_array, cmap='gray')\n",
    "\n",
    "# Create colorbar\n",
    "plt.colorbar(im_disp, ax=ax)\n",
    "\n",
    "# Create scalebar\n",
    "scalebar = ScaleBar(5.28, \"pm\")\n",
    "ax.add_artist(scalebar)\n",
    "\n",
    "# Remove ticks and labels from image\n",
    "ax.tick_params(left = False, right = False , labelleft = False ,\n",
    "                labelbottom = False, bottom = False)\n",
    "\n",
    "plt.show()\n"
   ]
  },
  {
   "cell_type": "code",
   "execution_count": null,
   "metadata": {},
   "outputs": [],
   "source": [
    "fig = plt.figure(figsize=(9,9))\n",
    "ax = fig.add_subplot(111)\n",
    "im_disp = ax.imshow(image_array, cmap='gray', interpolation='gaussian') # interpolation keyword changed\n",
    "\n",
    "# Create colorbar\n",
    "plt.colorbar(im_disp, ax=ax)\n",
    "\n",
    "# Create scalebar\n",
    "scalebar = ScaleBar(5.28, \"pm\")\n",
    "ax.add_artist(scalebar)\n",
    "\n",
    "# Remove ticks and labels from image\n",
    "ax.tick_params(left = False, right = False , labelleft = False ,\n",
    "                labelbottom = False, bottom = False)\n",
    "\n",
    "plt.show()"
   ]
  },
  {
   "cell_type": "code",
   "execution_count": null,
   "metadata": {},
   "outputs": [],
   "source": [
    "fig = plt.figure(figsize=(9,9))\n",
    "ax = fig.add_subplot(111)\n",
    "ax.hist(image_array.ravel(), 100) # Histogram plot\n",
    "\n",
    "plt.show()"
   ]
  },
  {
   "cell_type": "code",
   "execution_count": null,
   "metadata": {},
   "outputs": [],
   "source": [
    "fig = plt.figure(figsize=(9,9))\n",
    "ax = fig.add_subplot(111)\n",
    "im_disp = ax.imshow(image_array, cmap='gray', clim=(10000, 20000)) # contrast limit (clim) keyword changed\n",
    "\n",
    "# Create colorbar\n",
    "plt.colorbar(im_disp, ax=ax)\n",
    "\n",
    "# Create scalebar\n",
    "scalebar = ScaleBar(5.28, \"pm\")\n",
    "ax.add_artist(scalebar)\n",
    "\n",
    "# Remove ticks and labels from image\n",
    "ax.tick_params(left = False, right = False , labelleft = False ,\n",
    "                labelbottom = False, bottom = False)\n",
    "\n",
    "plt.show()"
   ]
  },
  {
   "cell_type": "code",
   "execution_count": null,
   "metadata": {},
   "outputs": [],
   "source": [
    "fig = plt.figure(figsize=(9,9))\n",
    "ax_left = fig.add_subplot(121)\n",
    "ax_right = fig.add_subplot(122)\n",
    "ax_left.imshow(image_array, cmap='gray')\n",
    "ax_right.imshow(image_array, cmap='gray', clim=(12000, 20000))\n",
    "\n",
    "ax_left.set_title('Before')\n",
    "ax_right.set_title('After')\n",
    "\n",
    "plt.show()"
   ]
  },
  {
   "cell_type": "code",
   "execution_count": null,
   "metadata": {},
   "outputs": [],
   "source": [
    "fig = plt.figure(figsize=(9,9))\n",
    "ax_left = fig.add_subplot(121)\n",
    "ax_right = fig.add_subplot(122)\n",
    "ax_left.imshow(image_array, cmap='inferno')\n",
    "ax_right.imshow(image_array, cmap='inferno', clim=(12000, 20000))\n",
    "\n",
    "ax_left.set_title('Before')\n",
    "ax_right.set_title('After')\n",
    "\n",
    "plt.show()"
   ]
  },
  {
   "cell_type": "code",
   "execution_count": null,
   "metadata": {},
   "outputs": [],
   "source": []
  }
 ],
 "metadata": {
  "kernelspec": {
   "display_name": "Python 3",
   "language": "python",
   "name": "python3"
  },
  "language_info": {
   "codemirror_mode": {
    "name": "ipython",
    "version": 3
   },
   "file_extension": ".py",
   "mimetype": "text/x-python",
   "name": "python",
   "nbconvert_exporter": "python",
   "pygments_lexer": "ipython3",
   "version": "3.5.2"
  }
 },
 "nbformat": 4,
 "nbformat_minor": 5
}
