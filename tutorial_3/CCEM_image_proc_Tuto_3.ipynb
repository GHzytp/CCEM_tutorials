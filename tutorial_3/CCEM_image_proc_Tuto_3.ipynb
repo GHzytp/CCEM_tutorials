{
 "cells": [
  {
   "cell_type": "markdown",
   "id": "f7ff96a7",
   "metadata": {},
   "source": [
    "# CCEM Image processing #3\n",
    "\n",
    "Multidimensional data navigation, visualization and basic analysis"
   ]
  },
  {
   "cell_type": "code",
   "execution_count": null,
   "id": "a2d6bb70",
   "metadata": {},
   "outputs": [],
   "source": [
    "# To run only if using jupyter notebook through binder\n",
    "# Install the required packages in Jupyter kernel (internet connection required)\n",
    "import sys\n",
    "!{sys.executable} -m pip install numpy\n",
    "!{sys.executable} -m pip install imageio\n",
    "!{sys.executable} -m pip install matplotlib\n",
    "!{sys.executable} -m pip install matplotlib_scalebar\n",
    "!{sys.executable} -m pip install scikit-image"
   ]
  },
  {
   "cell_type": "code",
   "execution_count": null,
   "id": "228b853d",
   "metadata": {},
   "outputs": [],
   "source": [
    "# Libraries from tutorial #1\n",
    "import numpy as np\n",
    "import matplotlib.pyplot as plt\n",
    "import matplotlib_scalebar as Scalebar\n",
    "import imageio as io\n",
    "\n",
    "#Library from tutorial #2\n",
    "import skimage.measure as measure"
   ]
  },
  {
   "cell_type": "markdown",
   "id": "1a37eea5",
   "metadata": {},
   "source": [
    "Links to libraries documentation\n",
    "\n",
    "1. Numpy ==> https://numpy.org/doc/stable/reference/index.html\n",
    "2. imageio ==> https://imageio.readthedocs.io/en/stable/reference/userapi.html\n",
    "3. matplotlib.pyplot ==> https://matplotlib.org/stable/api/pyplot_summary.html\n",
    "4. matplotlib_scalebar ==> https://pypi.org/project/matplotlib-scalebar/\n",
    "5. scikit-image ==> https://scikit-image.org/docs/stable/api/api.html"
   ]
  },
  {
   "cell_type": "code",
   "execution_count": null,
   "id": "49ef5d2a",
   "metadata": {},
   "outputs": [],
   "source": [
    "%matplotlib notebook"
   ]
  }
 ],
 "metadata": {
  "kernelspec": {
   "display_name": "Python 3 (ipykernel)",
   "language": "python",
   "name": "python3"
  },
  "language_info": {
   "codemirror_mode": {
    "name": "ipython",
    "version": 3
   },
   "file_extension": ".py",
   "mimetype": "text/x-python",
   "name": "python",
   "nbconvert_exporter": "python",
   "pygments_lexer": "ipython3",
   "version": "3.9.0"
  }
 },
 "nbformat": 4,
 "nbformat_minor": 5
}
